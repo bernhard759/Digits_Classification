{
 "cells": [
  {
   "cell_type": "markdown",
   "id": "72ef2f64",
   "metadata": {},
   "source": [
    "# Handwritten Digits Recognition"
   ]
  },
  {
   "cell_type": "markdown",
   "id": "58c58698",
   "metadata": {},
   "source": [
    "### Start Widget"
   ]
  },
  {
   "cell_type": "code",
   "execution_count": 141,
   "id": "33789dbe",
   "metadata": {},
   "outputs": [
    {
     "data": {
      "application/javascript": [
       "IPython.notebook.execute_cells_below()"
      ],
      "text/plain": [
       "<IPython.core.display.Javascript object>"
      ]
     },
     "metadata": {},
     "output_type": "display_data"
    },
    {
     "data": {
      "application/vnd.jupyter.widget-view+json": {
       "model_id": "b3d2906f0dd44d27a9a05e4b3dd559f4",
       "version_major": 2,
       "version_minor": 0
      },
      "text/plain": [
       "Button(description='Start', style=ButtonStyle())"
      ]
     },
     "metadata": {},
     "output_type": "display_data"
    }
   ],
   "source": [
    "# import\n",
    "from IPython.display import Javascript, display\n",
    "from ipywidgets import widgets\n",
    "import cv2\n",
    "import keras\n",
    "import numpy as np \n",
    "import matplotlib.pyplot as plt\n",
    "import json\n",
    "\n",
    "# load the keras model\n",
    "model = keras.models.load_model('simple_cnn')\n",
    "load_model = True\n",
    "\n",
    "# popup\n",
    "popup = False\n",
    "    \n",
    "# button function\n",
    "def run_all(ev):\n",
    "    display(Javascript('IPython.notebook.execute_cells_below()'))\n",
    "    \n",
    "button = widgets.Button(description=\"Start\")\n",
    "button.on_click(run_all)\n",
    "display(button)"
   ]
  },
  {
   "cell_type": "markdown",
   "id": "38e499af",
   "metadata": {},
   "source": [
    "### Drawing Canvas"
   ]
  },
  {
   "cell_type": "code",
   "execution_count": 142,
   "id": "924d6f75",
   "metadata": {},
   "outputs": [
    {
     "name": "stdout",
     "output_type": "stream",
     "text": [
      "exit\n"
     ]
    }
   ],
   "source": [
    "# helper\n",
    "drawing = False \n",
    "pt1_x , pt1_y = None , None\n",
    "\n",
    "# mouse callback function\n",
    "def line_drawing(event,x,y,flags,param):\n",
    "    \n",
    "    # global\n",
    "    global pt1_x,pt1_y,drawing\n",
    "\n",
    "    # events\n",
    "    if event==cv2.EVENT_LBUTTONDOWN:\n",
    "        drawing=True\n",
    "        pt1_x,pt1_y=x,y\n",
    "    elif event==cv2.EVENT_MOUSEMOVE:\n",
    "        if drawing==True:\n",
    "            cv2.line(img,(pt1_x,pt1_y),(x,y),color=(255,255,255),thickness=40)\n",
    "            pt1_x,pt1_y=x,y\n",
    "    elif event==cv2.EVENT_LBUTTONUP:\n",
    "        drawing=False\n",
    "        cv2.line(img,(pt1_x,pt1_y),(x,y),color=(255,255,255),thickness=40)        \n",
    "\n",
    "\n",
    "img = np.zeros((512,512,1), np.uint8)\n",
    "cv2.namedWindow('Draw a number')\n",
    "cv2.setMouseCallback('Draw a number',line_drawing)\n",
    "\n",
    "# loop\n",
    "while(1):\n",
    "    cv2.imshow('Draw a number',img)\n",
    "    if cv2.waitKey(1) == ord(\"e\"):\n",
    "        img = cv2.resize(img, (28,28), interpolation = cv2.INTER_AREA)\n",
    "        print(\"exit\")\n",
    "        cv2.destroyAllWindows()\n",
    "        break"
   ]
  },
  {
   "cell_type": "markdown",
   "id": "e177f18f",
   "metadata": {},
   "source": [
    "### Image processing"
   ]
  },
  {
   "cell_type": "code",
   "execution_count": 143,
   "id": "4c1d4d47",
   "metadata": {},
   "outputs": [],
   "source": [
    "# Scale image to the [0, 1] range\n",
    "image = img.astype(\"float32\") / 255"
   ]
  },
  {
   "cell_type": "code",
   "execution_count": 144,
   "id": "fb1ce9fa",
   "metadata": {},
   "outputs": [],
   "source": [
    "# plt.imshow(image, cmap=\"gray\");"
   ]
  },
  {
   "cell_type": "code",
   "execution_count": 145,
   "id": "82d883a0",
   "metadata": {},
   "outputs": [],
   "source": [
    "# reshape\n",
    "image = np.array([image]).reshape((1,28,28,1))"
   ]
  },
  {
   "cell_type": "markdown",
   "id": "d76ec557",
   "metadata": {},
   "source": [
    "### CNN"
   ]
  },
  {
   "cell_type": "code",
   "execution_count": 146,
   "id": "0baac436",
   "metadata": {},
   "outputs": [],
   "source": [
    "if not load_model:\n",
    "    model = keras.models.load_model('simple_cnn')"
   ]
  },
  {
   "cell_type": "code",
   "execution_count": 147,
   "id": "4346c412",
   "metadata": {},
   "outputs": [],
   "source": [
    "prediction = model.predict(image)"
   ]
  },
  {
   "cell_type": "code",
   "execution_count": 148,
   "id": "a0e9e24c",
   "metadata": {},
   "outputs": [],
   "source": [
    "data = np.argmax(prediction)"
   ]
  },
  {
   "cell_type": "markdown",
   "id": "f3c920f2",
   "metadata": {},
   "source": [
    "### Pop up"
   ]
  },
  {
   "cell_type": "code",
   "execution_count": 149,
   "id": "3f75145b",
   "metadata": {},
   "outputs": [],
   "source": [
    "popup = True"
   ]
  },
  {
   "cell_type": "code",
   "execution_count": 150,
   "id": "5251aabb",
   "metadata": {},
   "outputs": [
    {
     "data": {
      "application/javascript": [
       "alert(\"Der Computer sagt 6\")"
      ],
      "text/plain": [
       "<IPython.core.display.Javascript object>"
      ]
     },
     "metadata": {},
     "output_type": "display_data"
    }
   ],
   "source": [
    "if popup:\n",
    "    welcome = Javascript('alert(\"Der Computer sagt %s\")' % data);\n",
    "    display(welcome)"
   ]
  },
  {
   "cell_type": "code",
   "execution_count": null,
   "id": "d20464bb",
   "metadata": {},
   "outputs": [],
   "source": []
  },
  {
   "cell_type": "code",
   "execution_count": null,
   "id": "27dd9bfc",
   "metadata": {},
   "outputs": [],
   "source": []
  }
 ],
 "metadata": {
  "kernelspec": {
   "display_name": "cv",
   "language": "python",
   "name": "cv"
  },
  "language_info": {
   "codemirror_mode": {
    "name": "ipython",
    "version": 3
   },
   "file_extension": ".py",
   "mimetype": "text/x-python",
   "name": "python",
   "nbconvert_exporter": "python",
   "pygments_lexer": "ipython3",
   "version": "3.8.10"
  }
 },
 "nbformat": 4,
 "nbformat_minor": 5
}
